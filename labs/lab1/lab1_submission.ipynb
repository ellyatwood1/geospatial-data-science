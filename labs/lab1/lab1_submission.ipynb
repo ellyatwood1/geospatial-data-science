{
 "cells": [
  {
   "cell_type": "code",
   "execution_count": 2,
   "id": "5d5b9bef",
   "metadata": {},
   "outputs": [
    {
     "name": "stdout",
     "output_type": "stream",
     "text": [
      "10\n"
     ]
    }
   ],
   "source": [
    "import numpy as num\n",
    "x = 2\n",
    "y = 5\n",
    "z = num.multiply(x, y)\n",
    "print(z)"
   ]
  },
  {
   "cell_type": "markdown",
   "id": "9fa9cb32",
   "metadata": {},
   "source": [
    "![Greece](greece.png)\n",
    "The *beautiful* country of **Greece**.\n",
    "<https://www.lonelyplanet.com/articles/greece-vaccinating-island-residents>"
   ]
  },
  {
   "cell_type": "code",
   "execution_count": null,
   "id": "2909964b",
   "metadata": {},
   "outputs": [],
   "source": []
  }
 ],
 "metadata": {
  "kernelspec": {
   "display_name": "Python 3",
   "language": "python",
   "name": "python3"
  },
  "language_info": {
   "codemirror_mode": {
    "name": "ipython",
    "version": 3
   },
   "file_extension": ".py",
   "mimetype": "text/x-python",
   "name": "python",
   "nbconvert_exporter": "python",
   "pygments_lexer": "ipython3",
   "version": "3.8.8"
  }
 },
 "nbformat": 4,
 "nbformat_minor": 5
}
