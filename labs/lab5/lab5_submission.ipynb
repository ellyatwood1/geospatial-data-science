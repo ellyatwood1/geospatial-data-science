{
 "cells": [
  {
   "cell_type": "code",
   "execution_count": 1,
   "id": "a96d0db2",
   "metadata": {},
   "outputs": [],
   "source": [
    "# Import libraries\n",
    "import pandas as pd\n",
    "import numpy as np\n",
    "import geopandas as gpd\n",
    "import matplotlib.pyplot as plt\n",
    "from sklearn.preprocessing import StandardScaler\n",
    "from sklearn.model_selection import train_test_split\n",
    "from sklearn.ensemble import RandomForestRegressor\n",
    "from sklearn.metrics import mean_squared_error"
   ]
  },
  {
   "cell_type": "code",
   "execution_count": 3,
   "id": "feb90dc4",
   "metadata": {},
   "outputs": [],
   "source": [
    "# Import data\n",
    "df = pd.read_csv('/Users/ellyatwood/Documents/GEO490/geospatial-data-science/data/lab5/seattle_house_prices.csv')\n"
   ]
  },
  {
   "cell_type": "code",
   "execution_count": 9,
   "id": "e40111de",
   "metadata": {},
   "outputs": [],
   "source": [
    "# Convert DataFrame to GeoDataFrame\n",
    "gdf = gpd.GeoDataFrame(df, geometry=gpd.points_from_xy(df['long'], df['lat']))\n",
    "gdf = gdf.set_crs(4326, allow_override=True)\n",
    "\n",
    "# Reproject everything to UTM 10N (EPSG:32610)\n",
    "gdf_utm = gdf.to_crs('EPSG:32610')"
   ]
  },
  {
   "cell_type": "code",
   "execution_count": 12,
   "id": "deef777e",
   "metadata": {},
   "outputs": [
    {
     "name": "stdout",
     "output_type": "stream",
     "text": [
      "<bound method DataFrame.count of          price  bedrooms  bathrooms  sqft_living  sqft_lot  yr_built      lat  \\\n",
      "0       538000         3       2.25         2570      7242      1951  47.7210   \n",
      "1       180000         2       1.00          770     10000      1933  47.7379   \n",
      "2       604000         4       3.00         1960      5000      1965  47.5208   \n",
      "3       510000         3       2.00         1680      8080      1987  47.6168   \n",
      "4      1230000         4       4.50         5420    101930      2001  47.6561   \n",
      "...        ...       ...        ...          ...       ...       ...      ...   \n",
      "19446   475000         3       2.50         1310      1294      2008  47.5773   \n",
      "19447   360000         3       2.50         1530      1131      2009  47.6993   \n",
      "19448   400000         4       2.50         2310      5813      2014  47.5107   \n",
      "19449   400000         3       2.50         1600      2388      2004  47.5345   \n",
      "19450   325000         2       0.75         1020      1076      2008  47.5941   \n",
      "\n",
      "          long                     geometry  \n",
      "0     -122.319  POINT (-122.31900 47.72100)  \n",
      "1     -122.233  POINT (-122.23300 47.73790)  \n",
      "2     -122.393  POINT (-122.39300 47.52080)  \n",
      "3     -122.045  POINT (-122.04500 47.61680)  \n",
      "4     -122.005  POINT (-122.00500 47.65610)  \n",
      "...        ...                          ...  \n",
      "19446 -122.409  POINT (-122.40900 47.57730)  \n",
      "19447 -122.346  POINT (-122.34600 47.69930)  \n",
      "19448 -122.362  POINT (-122.36200 47.51070)  \n",
      "19449 -122.069  POINT (-122.06900 47.53450)  \n",
      "19450 -122.299  POINT (-122.29900 47.59410)  \n",
      "\n",
      "[19451 rows x 9 columns]>\n"
     ]
    }
   ],
   "source": [
    "# Looking for rows and columns count\n",
    "print (df.count)"
   ]
  },
  {
   "cell_type": "markdown",
   "id": "e47857be",
   "metadata": {},
   "source": [
    "There are 19451 total houses in the dataset, and 9 features for determining house price"
   ]
  },
  {
   "cell_type": "code",
   "execution_count": 14,
   "id": "91511857",
   "metadata": {},
   "outputs": [
    {
     "name": "stdout",
     "output_type": "stream",
     "text": [
      "<class 'pandas.core.frame.DataFrame'>\n",
      "RangeIndex: 19451 entries, 0 to 19450\n",
      "Data columns (total 9 columns):\n",
      " #   Column       Non-Null Count  Dtype   \n",
      "---  ------       --------------  -----   \n",
      " 0   price        19451 non-null  int64   \n",
      " 1   bedrooms     19451 non-null  int64   \n",
      " 2   bathrooms    19451 non-null  float64 \n",
      " 3   sqft_living  19451 non-null  int64   \n",
      " 4   sqft_lot     19451 non-null  int64   \n",
      " 5   yr_built     19451 non-null  int64   \n",
      " 6   lat          19451 non-null  float64 \n",
      " 7   long         19451 non-null  float64 \n",
      " 8   geometry     19451 non-null  geometry\n",
      "dtypes: float64(3), geometry(1), int64(5)\n",
      "memory usage: 1.3 MB\n",
      "None\n"
     ]
    }
   ],
   "source": [
    "# Looking for null values\n",
    "print (df.info())"
   ]
  },
  {
   "cell_type": "raw",
   "id": "b1f843b4",
   "metadata": {},
   "source": [
    "There are no null values in this dataset"
   ]
  },
  {
   "cell_type": "code",
   "execution_count": 34,
   "id": "8943aba4",
   "metadata": {},
   "outputs": [
    {
     "data": {
      "text/plain": [
       "price                   1.000000\n",
       "sqft_living             0.702296\n",
       "bathrooms               0.524395\n",
       "bedrooms                0.315804\n",
       "lat                     0.308082\n",
       "living_per_lot          0.126975\n",
       "sqft_lot                0.090125\n",
       "yr_built                0.052453\n",
       "long                    0.020092\n",
       "bedrooms_per_lot       -0.039601\n",
       "age                    -0.052453\n",
       "bathrooms_per_living   -0.267342\n",
       "bedrooms_per_living    -0.479228\n",
       "Name: price, dtype: float64"
      ]
     },
     "execution_count": 34,
     "metadata": {},
     "output_type": "execute_result"
    }
   ],
   "source": [
    "# Compute correlation matrix\n",
    "corr_matrix = gdf_utm.corr()\n",
    "\n",
    "# Display just house value correlations\n",
    "corr_matrix[\"price\"].sort_values(ascending= False)"
   ]
  },
  {
   "cell_type": "markdown",
   "id": "1189fe61",
   "metadata": {},
   "source": [
    "The intial variables that are best correlated with house price is longitude, yr_built, and sqft_lot.\n",
    "The intial variables that are least correlated with house price is sqft_living, bathrooms, and bedrooms."
   ]
  },
  {
   "cell_type": "code",
   "execution_count": 28,
   "id": "c939600b",
   "metadata": {},
   "outputs": [],
   "source": [
    "# Bedrooms per lot\n",
    "gdf_utm['bedrooms_per_lot'] = gdf_utm['bedrooms'] / gdf_utm['sqft_lot']\n",
    "\n",
    "# Bedrooms per living\n",
    "gdf_utm['bedrooms_per_living'] = gdf_utm['bedrooms'] / gdf_utm['sqft_living']\n",
    "\n",
    "# Bathrooms per living\n",
    "gdf_utm['bathrooms_per_living'] = gdf_utm['bathrooms'] / gdf_utm['sqft_living']\n",
    "\n",
    "# Sqftliving per lot\n",
    "gdf_utm['living_per_lot'] = gdf_utm['sqft_living'] / gdf_utm['sqft_lot']\n",
    "\n",
    "# Age\n",
    "gdf_utm['age'] = 2022 - gdf_utm['yr_built']"
   ]
  },
  {
   "cell_type": "code",
   "execution_count": 29,
   "id": "94c030ef",
   "metadata": {},
   "outputs": [
    {
     "data": {
      "text/plain": [
       "price                   1.000000\n",
       "sqft_living             0.702296\n",
       "bathrooms               0.524395\n",
       "bedrooms                0.315804\n",
       "lat                     0.308082\n",
       "living_per_lot          0.126975\n",
       "sqft_lot                0.090125\n",
       "yr_built                0.052453\n",
       "long                    0.020092\n",
       "bedrooms_per_lot       -0.039601\n",
       "age                    -0.052453\n",
       "bathrooms_per_living   -0.267342\n",
       "bedrooms_per_living    -0.479228\n",
       "Name: price, dtype: float64"
      ]
     },
     "execution_count": 29,
     "metadata": {},
     "output_type": "execute_result"
    }
   ],
   "source": [
    "# Compute correlation matrix\n",
    "corr_matrix = gdf_utm.corr()\n",
    "\n",
    "# Display just house value correlations\n",
    "corr_matrix[\"price\"].sort_values(ascending= False)"
   ]
  },
  {
   "cell_type": "code",
   "execution_count": 30,
   "id": "faa575e7",
   "metadata": {},
   "outputs": [],
   "source": [
    "# Define feature list\n",
    "feature_list =  ['bedrooms', 'bathrooms', 'sqft_living', \n",
    "                 'sqft_lot', 'yr_built', 'lat', 'long', 'bedrooms_per_lot', \n",
    "                 'bedrooms_per_living', 'bathrooms_per_living', 'living_per_lot',\n",
    "                'age']\n",
    "\n",
    "# Define features and labels \n",
    "X = gdf_utm[feature_list]\n",
    "y = gdf_utm['price']\n",
    "\n",
    "# Standarize data\n",
    "scaler = StandardScaler()  \n",
    "X_scaled = scaler.fit_transform(X)\n",
    "\n"
   ]
  },
  {
   "cell_type": "code",
   "execution_count": 31,
   "id": "6c0d1946",
   "metadata": {},
   "outputs": [],
   "source": [
    "# Split data \n",
    "X_train, X_test, y_train, y_test = train_test_split(X_scaled, y, test_size=0.2, random_state=42)"
   ]
  },
  {
   "cell_type": "code",
   "execution_count": 32,
   "id": "4be70ae0",
   "metadata": {},
   "outputs": [
    {
     "data": {
      "text/plain": [
       "RandomForestRegressor(n_estimators=30)"
      ]
     },
     "execution_count": 32,
     "metadata": {},
     "output_type": "execute_result"
    }
   ],
   "source": [
    "# Define model\n",
    "forest_reg = RandomForestRegressor(n_estimators = 30)\n",
    "\n",
    "# Fit model\n",
    "forest_reg.fit(X_train, y_train)"
   ]
  },
  {
   "cell_type": "code",
   "execution_count": 33,
   "id": "a0f94f3c",
   "metadata": {},
   "outputs": [
    {
     "data": {
      "text/plain": [
       "160774.30471727348"
      ]
     },
     "execution_count": 33,
     "metadata": {},
     "output_type": "execute_result"
    }
   ],
   "source": [
    "# Predict test labels predictions\n",
    "predictions = forest_reg.predict(X_test)\n",
    "\n",
    "# Compute mean-squared-error\n",
    "final_mse = mean_squared_error(y_test , predictions)\n",
    "final_rmse = np.sqrt(final_mse)\n",
    "final_rmse"
   ]
  }
 ],
 "metadata": {
  "kernelspec": {
   "display_name": "Python 3 (ipykernel)",
   "language": "python",
   "name": "python3"
  },
  "language_info": {
   "codemirror_mode": {
    "name": "ipython",
    "version": 3
   },
   "file_extension": ".py",
   "mimetype": "text/x-python",
   "name": "python",
   "nbconvert_exporter": "python",
   "pygments_lexer": "ipython3",
   "version": "3.8.12"
  }
 },
 "nbformat": 4,
 "nbformat_minor": 5
}
