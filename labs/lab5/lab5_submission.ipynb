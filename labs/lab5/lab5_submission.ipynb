{
 "cells": [
  {
   "cell_type": "code",
   "execution_count": 1,
   "id": "a6b7262c",
   "metadata": {},
   "outputs": [],
   "source": [
    "# Import libraries\n",
    "import pandas as pd\n",
    "import numpy as np\n",
    "import geopandas as gpd\n",
    "import matplotlib.pyplot as plt\n",
    "from sklearn.preprocessing import StandardScaler\n",
    "from sklearn.model_selection import train_test_split\n",
    "from sklearn.ensemble import RandomForestRegressor\n",
    "from sklearn.metrics import mean_squared_error"
   ]
  },
  {
   "cell_type": "code",
   "execution_count": 3,
   "id": "f997f016",
   "metadata": {},
   "outputs": [],
   "source": [
    "# Import data\n",
    "df = pd.read_csv('/Users/ellyatwood/Documents/GEO490/geospatial-data-science/data/lab5/seattle_house_prices.csv')\n"
   ]
  },
  {
   "cell_type": "code",
   "execution_count": 9,
   "id": "b2bd0fa3",
   "metadata": {},
   "outputs": [],
   "source": [
    "# Convert DataFrame to GeoDataFrame\n",
    "gdf = gpd.GeoDataFrame(df, geometry=gpd.points_from_xy(df['long'], df['lat']))\n",
    "gdf = gdf.set_crs(4326, allow_override=True)\n",
    "\n",
    "# Reproject everything to UTM 10N (EPSG:32610)\n",
    "gdf_utm = gdf.to_crs('EPSG:32610')"
   ]
  },
  {
   "cell_type": "code",
   "execution_count": 12,
   "id": "5b7996d5",
   "metadata": {},
   "outputs": [
    {
     "name": "stdout",
     "output_type": "stream",
     "text": [
      "<bound method DataFrame.count of          price  bedrooms  bathrooms  sqft_living  sqft_lot  yr_built      lat  \\\n",
      "0       538000         3       2.25         2570      7242      1951  47.7210   \n",
      "1       180000         2       1.00          770     10000      1933  47.7379   \n",
      "2       604000         4       3.00         1960      5000      1965  47.5208   \n",
      "3       510000         3       2.00         1680      8080      1987  47.6168   \n",
      "4      1230000         4       4.50         5420    101930      2001  47.6561   \n",
      "...        ...       ...        ...          ...       ...       ...      ...   \n",
      "19446   475000         3       2.50         1310      1294      2008  47.5773   \n",
      "19447   360000         3       2.50         1530      1131      2009  47.6993   \n",
      "19448   400000         4       2.50         2310      5813      2014  47.5107   \n",
      "19449   400000         3       2.50         1600      2388      2004  47.5345   \n",
      "19450   325000         2       0.75         1020      1076      2008  47.5941   \n",
      "\n",
      "          long                     geometry  \n",
      "0     -122.319  POINT (-122.31900 47.72100)  \n",
      "1     -122.233  POINT (-122.23300 47.73790)  \n",
      "2     -122.393  POINT (-122.39300 47.52080)  \n",
      "3     -122.045  POINT (-122.04500 47.61680)  \n",
      "4     -122.005  POINT (-122.00500 47.65610)  \n",
      "...        ...                          ...  \n",
      "19446 -122.409  POINT (-122.40900 47.57730)  \n",
      "19447 -122.346  POINT (-122.34600 47.69930)  \n",
      "19448 -122.362  POINT (-122.36200 47.51070)  \n",
      "19449 -122.069  POINT (-122.06900 47.53450)  \n",
      "19450 -122.299  POINT (-122.29900 47.59410)  \n",
      "\n",
      "[19451 rows x 9 columns]>\n"
     ]
    }
   ],
   "source": [
    "print (df.count)"
   ]
  },
  {
   "cell_type": "markdown",
   "id": "2d8205fc",
   "metadata": {},
   "source": [
    "There are 19451 total houses in the dataset, and 9 features for determining house price"
   ]
  },
  {
   "cell_type": "code",
   "execution_count": 14,
   "id": "befdf8ff",
   "metadata": {},
   "outputs": [
    {
     "name": "stdout",
     "output_type": "stream",
     "text": [
      "<class 'pandas.core.frame.DataFrame'>\n",
      "RangeIndex: 19451 entries, 0 to 19450\n",
      "Data columns (total 9 columns):\n",
      " #   Column       Non-Null Count  Dtype   \n",
      "---  ------       --------------  -----   \n",
      " 0   price        19451 non-null  int64   \n",
      " 1   bedrooms     19451 non-null  int64   \n",
      " 2   bathrooms    19451 non-null  float64 \n",
      " 3   sqft_living  19451 non-null  int64   \n",
      " 4   sqft_lot     19451 non-null  int64   \n",
      " 5   yr_built     19451 non-null  int64   \n",
      " 6   lat          19451 non-null  float64 \n",
      " 7   long         19451 non-null  float64 \n",
      " 8   geometry     19451 non-null  geometry\n",
      "dtypes: float64(3), geometry(1), int64(5)\n",
      "memory usage: 1.3 MB\n",
      "None\n"
     ]
    }
   ],
   "source": [
    "print (df.info())"
   ]
  },
  {
   "cell_type": "raw",
   "id": "9d6ea76a",
   "metadata": {},
   "source": [
    "There are no null values in this dataset"
   ]
  },
  {
   "cell_type": "code",
   "execution_count": 34,
   "id": "6e71f439",
   "metadata": {},
   "outputs": [
    {
     "data": {
      "text/plain": [
       "price                   1.000000\n",
       "sqft_living             0.702296\n",
       "bathrooms               0.524395\n",
       "bedrooms                0.315804\n",
       "lat                     0.308082\n",
       "living_per_lot          0.126975\n",
       "sqft_lot                0.090125\n",
       "yr_built                0.052453\n",
       "long                    0.020092\n",
       "bedrooms_per_lot       -0.039601\n",
       "age                    -0.052453\n",
       "bathrooms_per_living   -0.267342\n",
       "bedrooms_per_living    -0.479228\n",
       "Name: price, dtype: float64"
      ]
     },
     "execution_count": 34,
     "metadata": {},
     "output_type": "execute_result"
    }
   ],
   "source": [
    "# Compute correlation matrix\n",
    "corr_matrix = gdf_utm.corr()\n",
    "\n",
    "# Display just house value correlations\n",
    "corr_matrix[\"price\"].sort_values(ascending= False)"
   ]
  },
  {
   "cell_type": "markdown",
   "id": "50d23c72",
   "metadata": {},
   "source": [
    "The variables that are best"
   ]
  },
  {
   "cell_type": "code",
   "execution_count": 28,
   "id": "cd8293fb",
   "metadata": {},
   "outputs": [],
   "source": [
    "# Bedrooms per lot\n",
    "gdf_utm['bedrooms_per_lot'] = gdf_utm['bedrooms'] / gdf_utm['sqft_lot']\n",
    "\n",
    "# Bedrooms per living\n",
    "gdf_utm['bedrooms_per_living'] = gdf_utm['bedrooms'] / gdf_utm['sqft_living']\n",
    "\n",
    "# Bathrooms per living\n",
    "gdf_utm['bathrooms_per_living'] = gdf_utm['bathrooms'] / gdf_utm['sqft_living']\n",
    "\n",
    "# Sqftliving per lot\n",
    "gdf_utm['living_per_lot'] = gdf_utm['sqft_living'] / gdf_utm['sqft_lot']\n",
    "\n",
    "# Age\n",
    "gdf_utm['age'] = 2022 - gdf_utm['yr_built']"
   ]
  },
  {
   "cell_type": "code",
   "execution_count": 29,
   "id": "02c961a2",
   "metadata": {},
   "outputs": [
    {
     "data": {
      "text/plain": [
       "price                   1.000000\n",
       "sqft_living             0.702296\n",
       "bathrooms               0.524395\n",
       "bedrooms                0.315804\n",
       "lat                     0.308082\n",
       "living_per_lot          0.126975\n",
       "sqft_lot                0.090125\n",
       "yr_built                0.052453\n",
       "long                    0.020092\n",
       "bedrooms_per_lot       -0.039601\n",
       "age                    -0.052453\n",
       "bathrooms_per_living   -0.267342\n",
       "bedrooms_per_living    -0.479228\n",
       "Name: price, dtype: float64"
      ]
     },
     "execution_count": 29,
     "metadata": {},
     "output_type": "execute_result"
    }
   ],
   "source": [
    "# Compute correlation matrix\n",
    "corr_matrix = gdf_utm.corr()\n",
    "\n",
    "# Display just house value correlations\n",
    "corr_matrix[\"price\"].sort_values(ascending= False)"
   ]
  },
  {
   "cell_type": "code",
   "execution_count": null,
   "id": "4f10710b",
   "metadata": {},
   "outputs": [],
   "source": []
  },
  {
   "cell_type": "code",
   "execution_count": 30,
   "id": "c5cade35",
   "metadata": {},
   "outputs": [],
   "source": [
    "# Define feature list\n",
    "feature_list =  ['bedrooms', 'bathrooms', 'sqft_living', \n",
    "                 'sqft_lot', 'yr_built', 'lat', 'long', 'bedrooms_per_lot', \n",
    "                 'bedrooms_per_living', 'bathrooms_per_living', 'living_per_lot',\n",
    "                'age']\n",
    "\n",
    "# Define features and labels \n",
    "X = gdf_utm[feature_list]\n",
    "y = gdf_utm['price']\n",
    "\n",
    "# Standarize data\n",
    "scaler = StandardScaler()  \n",
    "X_scaled = scaler.fit_transform(X)\n",
    "\n"
   ]
  },
  {
   "cell_type": "code",
   "execution_count": 31,
   "id": "0454c99f",
   "metadata": {},
   "outputs": [],
   "source": [
    "# Split data \n",
    "X_train, X_test, y_train, y_test = train_test_split(X_scaled, y, test_size=0.2, random_state=42)"
   ]
  },
  {
   "cell_type": "code",
   "execution_count": 32,
   "id": "1335144e",
   "metadata": {},
   "outputs": [
    {
     "data": {
      "text/plain": [
       "RandomForestRegressor(n_estimators=30)"
      ]
     },
     "execution_count": 32,
     "metadata": {},
     "output_type": "execute_result"
    }
   ],
   "source": [
    "# Define model\n",
    "forest_reg = RandomForestRegressor(n_estimators = 30)\n",
    "\n",
    "# Fit model\n",
    "forest_reg.fit(X_train, y_train)"
   ]
  },
  {
   "cell_type": "code",
   "execution_count": 33,
   "id": "3e8e1624",
   "metadata": {},
   "outputs": [
    {
     "data": {
      "text/plain": [
       "160774.30471727348"
      ]
     },
     "execution_count": 33,
     "metadata": {},
     "output_type": "execute_result"
    }
   ],
   "source": [
    "# Predict test labels predictions\n",
    "predictions = forest_reg.predict(X_test)\n",
    "\n",
    "# Compute mean-squared-error\n",
    "final_mse = mean_squared_error(y_test , predictions)\n",
    "final_rmse = np.sqrt(final_mse)\n",
    "final_rmse"
   ]
  },
  {
   "cell_type": "markdown",
   "id": "35d38469",
   "metadata": {},
   "source": [
    "## Approach 2"
   ]
  },
  {
   "cell_type": "code",
   "execution_count": 36,
   "id": "6fca8276",
   "metadata": {},
   "outputs": [],
   "source": [
    "# Split data by prices\n",
    "gdfsorted = gdf_utm.sort_values(by='price', ascending=False)"
   ]
  },
  {
   "cell_type": "code",
   "execution_count": 37,
   "id": "7dc05d29",
   "metadata": {},
   "outputs": [
    {
     "data": {
      "text/html": [
       "<div>\n",
       "<style scoped>\n",
       "    .dataframe tbody tr th:only-of-type {\n",
       "        vertical-align: middle;\n",
       "    }\n",
       "\n",
       "    .dataframe tbody tr th {\n",
       "        vertical-align: top;\n",
       "    }\n",
       "\n",
       "    .dataframe thead th {\n",
       "        text-align: right;\n",
       "    }\n",
       "</style>\n",
       "<table border=\"1\" class=\"dataframe\">\n",
       "  <thead>\n",
       "    <tr style=\"text-align: right;\">\n",
       "      <th></th>\n",
       "      <th>price</th>\n",
       "      <th>bedrooms</th>\n",
       "      <th>bathrooms</th>\n",
       "      <th>sqft_living</th>\n",
       "      <th>sqft_lot</th>\n",
       "      <th>yr_built</th>\n",
       "      <th>lat</th>\n",
       "      <th>long</th>\n",
       "      <th>geometry</th>\n",
       "      <th>bedrooms_per_lot</th>\n",
       "      <th>bedrooms_per_living</th>\n",
       "      <th>bathrooms_per_living</th>\n",
       "      <th>living_per_lot</th>\n",
       "      <th>age</th>\n",
       "    </tr>\n",
       "  </thead>\n",
       "  <tbody>\n",
       "    <tr>\n",
       "      <th>6526</th>\n",
       "      <td>7700000</td>\n",
       "      <td>6</td>\n",
       "      <td>8.00</td>\n",
       "      <td>12050</td>\n",
       "      <td>27600</td>\n",
       "      <td>1910</td>\n",
       "      <td>47.6298</td>\n",
       "      <td>-122.323</td>\n",
       "      <td>POINT (550861.285 5275377.370)</td>\n",
       "      <td>0.000217</td>\n",
       "      <td>0.000498</td>\n",
       "      <td>0.000664</td>\n",
       "      <td>0.436594</td>\n",
       "      <td>112</td>\n",
       "    </tr>\n",
       "    <tr>\n",
       "      <th>3522</th>\n",
       "      <td>7060000</td>\n",
       "      <td>5</td>\n",
       "      <td>4.50</td>\n",
       "      <td>10040</td>\n",
       "      <td>37325</td>\n",
       "      <td>1940</td>\n",
       "      <td>47.6500</td>\n",
       "      <td>-122.214</td>\n",
       "      <td>POINT (559027.375 5277699.601)</td>\n",
       "      <td>0.000134</td>\n",
       "      <td>0.000498</td>\n",
       "      <td>0.000448</td>\n",
       "      <td>0.268989</td>\n",
       "      <td>82</td>\n",
       "    </tr>\n",
       "    <tr>\n",
       "      <th>8328</th>\n",
       "      <td>6890000</td>\n",
       "      <td>6</td>\n",
       "      <td>7.75</td>\n",
       "      <td>9890</td>\n",
       "      <td>31374</td>\n",
       "      <td>2001</td>\n",
       "      <td>47.6305</td>\n",
       "      <td>-122.240</td>\n",
       "      <td>POINT (557096.070 5275512.941)</td>\n",
       "      <td>0.000191</td>\n",
       "      <td>0.000607</td>\n",
       "      <td>0.000784</td>\n",
       "      <td>0.315229</td>\n",
       "      <td>21</td>\n",
       "    </tr>\n",
       "    <tr>\n",
       "      <th>3969</th>\n",
       "      <td>5570000</td>\n",
       "      <td>5</td>\n",
       "      <td>5.75</td>\n",
       "      <td>9200</td>\n",
       "      <td>35069</td>\n",
       "      <td>2001</td>\n",
       "      <td>47.6289</td>\n",
       "      <td>-122.233</td>\n",
       "      <td>POINT (557623.710 5275340.298)</td>\n",
       "      <td>0.000143</td>\n",
       "      <td>0.000543</td>\n",
       "      <td>0.000625</td>\n",
       "      <td>0.262340</td>\n",
       "      <td>21</td>\n",
       "    </tr>\n",
       "    <tr>\n",
       "      <th>1303</th>\n",
       "      <td>5350000</td>\n",
       "      <td>5</td>\n",
       "      <td>5.00</td>\n",
       "      <td>8000</td>\n",
       "      <td>23985</td>\n",
       "      <td>2009</td>\n",
       "      <td>47.6232</td>\n",
       "      <td>-122.220</td>\n",
       "      <td>POINT (558606.750 5274716.555)</td>\n",
       "      <td>0.000208</td>\n",
       "      <td>0.000625</td>\n",
       "      <td>0.000625</td>\n",
       "      <td>0.333542</td>\n",
       "      <td>13</td>\n",
       "    </tr>\n",
       "    <tr>\n",
       "      <th>...</th>\n",
       "      <td>...</td>\n",
       "      <td>...</td>\n",
       "      <td>...</td>\n",
       "      <td>...</td>\n",
       "      <td>...</td>\n",
       "      <td>...</td>\n",
       "      <td>...</td>\n",
       "      <td>...</td>\n",
       "      <td>...</td>\n",
       "      <td>...</td>\n",
       "      <td>...</td>\n",
       "      <td>...</td>\n",
       "      <td>...</td>\n",
       "      <td>...</td>\n",
       "    </tr>\n",
       "    <tr>\n",
       "      <th>15030</th>\n",
       "      <td>637000</td>\n",
       "      <td>5</td>\n",
       "      <td>3.00</td>\n",
       "      <td>2460</td>\n",
       "      <td>7240</td>\n",
       "      <td>1991</td>\n",
       "      <td>47.5486</td>\n",
       "      <td>-122.189</td>\n",
       "      <td>POINT (561022.625 5266449.641)</td>\n",
       "      <td>0.000691</td>\n",
       "      <td>0.002033</td>\n",
       "      <td>0.001220</td>\n",
       "      <td>0.339779</td>\n",
       "      <td>31</td>\n",
       "    </tr>\n",
       "    <tr>\n",
       "      <th>3420</th>\n",
       "      <td>637000</td>\n",
       "      <td>4</td>\n",
       "      <td>3.50</td>\n",
       "      <td>3080</td>\n",
       "      <td>118918</td>\n",
       "      <td>2008</td>\n",
       "      <td>47.7721</td>\n",
       "      <td>-121.924</td>\n",
       "      <td>POINT (580617.178 5291531.153)</td>\n",
       "      <td>0.000034</td>\n",
       "      <td>0.001299</td>\n",
       "      <td>0.001136</td>\n",
       "      <td>0.025900</td>\n",
       "      <td>14</td>\n",
       "    </tr>\n",
       "    <tr>\n",
       "      <th>4494</th>\n",
       "      <td>637000</td>\n",
       "      <td>4</td>\n",
       "      <td>2.75</td>\n",
       "      <td>2900</td>\n",
       "      <td>5803</td>\n",
       "      <td>2007</td>\n",
       "      <td>47.7368</td>\n",
       "      <td>-122.232</td>\n",
       "      <td>POINT (557579.975 5287332.913)</td>\n",
       "      <td>0.000689</td>\n",
       "      <td>0.001379</td>\n",
       "      <td>0.000948</td>\n",
       "      <td>0.499742</td>\n",
       "      <td>15</td>\n",
       "    </tr>\n",
       "    <tr>\n",
       "      <th>2699</th>\n",
       "      <td>637000</td>\n",
       "      <td>3</td>\n",
       "      <td>2.00</td>\n",
       "      <td>1980</td>\n",
       "      <td>6000</td>\n",
       "      <td>1958</td>\n",
       "      <td>47.6921</td>\n",
       "      <td>-122.283</td>\n",
       "      <td>POINT (553802.319 5282328.306)</td>\n",
       "      <td>0.000500</td>\n",
       "      <td>0.001515</td>\n",
       "      <td>0.001010</td>\n",
       "      <td>0.330000</td>\n",
       "      <td>64</td>\n",
       "    </tr>\n",
       "    <tr>\n",
       "      <th>16138</th>\n",
       "      <td>637000</td>\n",
       "      <td>4</td>\n",
       "      <td>2.75</td>\n",
       "      <td>2190</td>\n",
       "      <td>2867</td>\n",
       "      <td>1929</td>\n",
       "      <td>47.6868</td>\n",
       "      <td>-122.308</td>\n",
       "      <td>POINT (551931.637 5281722.209)</td>\n",
       "      <td>0.001395</td>\n",
       "      <td>0.001826</td>\n",
       "      <td>0.001256</td>\n",
       "      <td>0.763865</td>\n",
       "      <td>93</td>\n",
       "    </tr>\n",
       "  </tbody>\n",
       "</table>\n",
       "<p>5000 rows × 14 columns</p>\n",
       "</div>"
      ],
      "text/plain": [
       "         price  bedrooms  bathrooms  sqft_living  sqft_lot  yr_built      lat  \\\n",
       "6526   7700000         6       8.00        12050     27600      1910  47.6298   \n",
       "3522   7060000         5       4.50        10040     37325      1940  47.6500   \n",
       "8328   6890000         6       7.75         9890     31374      2001  47.6305   \n",
       "3969   5570000         5       5.75         9200     35069      2001  47.6289   \n",
       "1303   5350000         5       5.00         8000     23985      2009  47.6232   \n",
       "...        ...       ...        ...          ...       ...       ...      ...   \n",
       "15030   637000         5       3.00         2460      7240      1991  47.5486   \n",
       "3420    637000         4       3.50         3080    118918      2008  47.7721   \n",
       "4494    637000         4       2.75         2900      5803      2007  47.7368   \n",
       "2699    637000         3       2.00         1980      6000      1958  47.6921   \n",
       "16138   637000         4       2.75         2190      2867      1929  47.6868   \n",
       "\n",
       "          long                        geometry  bedrooms_per_lot  \\\n",
       "6526  -122.323  POINT (550861.285 5275377.370)          0.000217   \n",
       "3522  -122.214  POINT (559027.375 5277699.601)          0.000134   \n",
       "8328  -122.240  POINT (557096.070 5275512.941)          0.000191   \n",
       "3969  -122.233  POINT (557623.710 5275340.298)          0.000143   \n",
       "1303  -122.220  POINT (558606.750 5274716.555)          0.000208   \n",
       "...        ...                             ...               ...   \n",
       "15030 -122.189  POINT (561022.625 5266449.641)          0.000691   \n",
       "3420  -121.924  POINT (580617.178 5291531.153)          0.000034   \n",
       "4494  -122.232  POINT (557579.975 5287332.913)          0.000689   \n",
       "2699  -122.283  POINT (553802.319 5282328.306)          0.000500   \n",
       "16138 -122.308  POINT (551931.637 5281722.209)          0.001395   \n",
       "\n",
       "       bedrooms_per_living  bathrooms_per_living  living_per_lot  age  \n",
       "6526              0.000498              0.000664        0.436594  112  \n",
       "3522              0.000498              0.000448        0.268989   82  \n",
       "8328              0.000607              0.000784        0.315229   21  \n",
       "3969              0.000543              0.000625        0.262340   21  \n",
       "1303              0.000625              0.000625        0.333542   13  \n",
       "...                    ...                   ...             ...  ...  \n",
       "15030             0.002033              0.001220        0.339779   31  \n",
       "3420              0.001299              0.001136        0.025900   14  \n",
       "4494              0.001379              0.000948        0.499742   15  \n",
       "2699              0.001515              0.001010        0.330000   64  \n",
       "16138             0.001826              0.001256        0.763865   93  \n",
       "\n",
       "[5000 rows x 14 columns]"
      ]
     },
     "execution_count": 37,
     "metadata": {},
     "output_type": "execute_result"
    }
   ],
   "source": [
    "expensivehouse = gdfsorted.iloc[0:5000]"
   ]
  },
  {
   "cell_type": "code",
   "execution_count": null,
   "id": "d2dc41ab",
   "metadata": {},
   "outputs": [],
   "source": []
  }
 ],
 "metadata": {
  "kernelspec": {
   "display_name": "Python 3 (ipykernel)",
   "language": "python",
   "name": "python3"
  },
  "language_info": {
   "codemirror_mode": {
    "name": "ipython",
    "version": 3
   },
   "file_extension": ".py",
   "mimetype": "text/x-python",
   "name": "python",
   "nbconvert_exporter": "python",
   "pygments_lexer": "ipython3",
   "version": "3.8.12"
  }
 },
 "nbformat": 4,
 "nbformat_minor": 5
}
